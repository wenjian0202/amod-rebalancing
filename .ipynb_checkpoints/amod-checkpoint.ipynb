{
 "cells": [
  {
   "cell_type": "code",
   "execution_count": 1,
   "metadata": {
    "collapsed": false
   },
   "outputs": [],
   "source": [
    "from lib.Agents import *\n",
    "from lib.Demand import *"
   ]
  },
  {
   "cell_type": "code",
   "execution_count": 2,
   "metadata": {
    "collapsed": true
   },
   "outputs": [],
   "source": [
    "import numpy as np\n",
    "from collections import deque\n",
    "import matplotlib.pyplot as plt\n",
    "\n",
    "class Step(object):\n",
    "    \"\"\" \n",
    "    Step is a class for steps in a leg\n",
    "    Attributes:\n",
    "        d: distance \n",
    "        t: duration\n",
    "        geo: geometry, a list of coordinates\n",
    "    \"\"\"\n",
    "    def __init__(self, d=0.0, t=0.0, geo=[]):\n",
    "        self.d = d\n",
    "        self.t = t\n",
    "        self.geo = geo\n",
    "        \n",
    "    def __str__(self):\n",
    "        return \"step: distance = %.1f, duration = %.1f\" % (self.d, self.t)\n",
    " \n",
    "    \n",
    "class Leg(object):\n",
    "    \"\"\" \n",
    "    Leg is a class for legs in the route\n",
    "    Attributes:\n",
    "        d: total distance \n",
    "        t: total duration\n",
    "        steps: a list of steps\n",
    "    \"\"\"\n",
    "    def __init__(self, d=0.0, t=0.0, steps=[]):\n",
    "        self.d = d\n",
    "        self.t = t\n",
    "        self.steps = deque([])\n",
    "        \n",
    "    def add_step(self, step):\n",
    "        self.steps.append(step)\n",
    "        \n",
    "    def __str__(self):\n",
    "        return \"leg: distance = %.1f, duration = %.1f, number of steps = %d\" % (self.d, self.t, len(self.steps) )\n",
    "    \n",
    "     "
   ]
  },
  {
   "cell_type": "code",
   "execution_count": null,
   "metadata": {
    "collapsed": true
   },
   "outputs": [],
   "source": []
  }
 ],
 "metadata": {
  "kernelspec": {
   "display_name": "Python 3",
   "language": "python",
   "name": "python3"
  },
  "language_info": {
   "codemirror_mode": {
    "name": "ipython",
    "version": 3
   },
   "file_extension": ".py",
   "mimetype": "text/x-python",
   "name": "python",
   "nbconvert_exporter": "python",
   "pygments_lexer": "ipython3",
   "version": "3.6.0"
  }
 },
 "nbformat": 4,
 "nbformat_minor": 2
}
